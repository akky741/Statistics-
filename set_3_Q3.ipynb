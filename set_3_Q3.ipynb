{
 "cells": [
  {
   "cell_type": "markdown",
   "metadata": {},
   "source": [
    "For each of the following statements, indicate whether it is True/False. If false, explain why"
   ]
  },
  {
   "cell_type": "markdown",
   "metadata": {},
   "source": [
    "\tIf the 95% confidence interval for the average purchase of customers at a department store is $50 to $110, then $100 is a plausible value for the population mean at this level of confidence."
   ]
  },
  {
   "cell_type": "code",
   "execution_count": 1,
   "metadata": {},
   "outputs": [
    {
     "data": {
      "text/plain": [
       "True"
      ]
     },
     "execution_count": 1,
     "metadata": {},
     "output_type": "execute_result"
    }
   ],
   "source": [
    "True"
   ]
  },
  {
   "cell_type": "markdown",
   "metadata": {},
   "source": [
    "If the 95% confidence interval for the number of moviegoers who purchase concessions is 30% to 45%, this means that fewer than half of all movie goers purchase concessions."
   ]
  },
  {
   "cell_type": "code",
   "execution_count": 2,
   "metadata": {},
   "outputs": [
    {
     "data": {
      "text/plain": [
       "'False: The above information implies only for 30 to 45% of moviegoers at \\n95 % confidence further than this we do not have any knowledge. Therefore, we cannot be 100% sure for the above statement'"
      ]
     },
     "execution_count": 2,
     "metadata": {},
     "output_type": "execute_result"
    }
   ],
   "source": [
    "\n",
    "'''False: The above information implies only for 30 to 45% of moviegoers at \n",
    "95 % confidence further than this we do not have any knowledge. Therefore, we cannot be 100% sure for the above statement'''"
   ]
  },
  {
   "cell_type": "markdown",
   "metadata": {},
   "source": [
    "The 95% Confidence-Interval for μ only applies if the sample data are nearly normally distributed."
   ]
  },
  {
   "cell_type": "code",
   "execution_count": 3,
   "metadata": {},
   "outputs": [
    {
     "data": {
      "text/plain": [
       "'False: The 95% confidence Interval for population mean can be applied to distribution that aren’t normal, but they are easy to understand in symmetric distributions. We can use the central limit theorem to make a normal approximation. \\nThe rule where about 95% of observations are within 2 standard deviations of the mean is only approximately true. However, it holds very well for the normal distribution. The mean of data tends to be normally distributed when the sample size is sufficiently large'"
      ]
     },
     "execution_count": 3,
     "metadata": {},
     "output_type": "execute_result"
    }
   ],
   "source": [
    "'''False: The 95% confidence Interval for population mean can be applied to distribution that aren’t normal, but they are \n",
    "easy to understand in symmetric distributions. \n",
    "We can use the central limit theorem to make a normal approximation. \n",
    "The rule where about 95% of observations are within 2 standard deviations of the mean is only approximately true. \n",
    "However, it holds very well for the normal distribution. The mean of data tends to be normally distributed when the sample size is sufficiently large'''"
   ]
  },
  {
   "cell_type": "code",
   "execution_count": null,
   "metadata": {},
   "outputs": [],
   "source": []
  }
 ],
 "metadata": {
  "kernelspec": {
   "display_name": "base",
   "language": "python",
   "name": "python3"
  },
  "language_info": {
   "codemirror_mode": {
    "name": "ipython",
    "version": 3
   },
   "file_extension": ".py",
   "mimetype": "text/x-python",
   "name": "python",
   "nbconvert_exporter": "python",
   "pygments_lexer": "ipython3",
   "version": "3.11.4"
  }
 },
 "nbformat": 4,
 "nbformat_minor": 2
}
