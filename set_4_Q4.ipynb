{
 "cells": [
  {
   "cell_type": "code",
   "execution_count": 3,
   "metadata": {},
   "outputs": [],
   "source": [
    "import numpy as np \n",
    "import scipy.stats as stats"
   ]
  },
  {
   "cell_type": "code",
   "execution_count": 4,
   "metadata": {},
   "outputs": [
    {
     "name": "stdout",
     "output_type": "stream",
     "text": [
      "The Auditors would like to maintain the probability of investigation to 5%, they should sample',np.round(n,),'transactions if they do not want \n",
      "248.3776 247.3776\n"
     ]
    },
    {
     "name": "stderr",
     "output_type": "stream",
     "text": [
      "C:\\Users\\Akky\\AppData\\Local\\Temp\\ipykernel_13424\\2476907643.py:17: DeprecationWarning: Use of keyword argument 'alpha' for method 'interval' is deprecated and wil be removed in SciPy 1.11.0. Use first positional argument or keyword argument 'confidence' instead.\n",
      "  np.round(stats.t.interval(alpha=0.95,df=df,loc=mew,scale=std/np.sqrt(n)),)\n"
     ]
    },
    {
     "data": {
      "text/plain": [
       "array([45., 55.])"
      ]
     },
     "execution_count": 4,
     "metadata": {},
     "output_type": "execute_result"
    }
   ],
   "source": [
    "x_bar=45\n",
    "std=40\n",
    "mew=50\n",
    "t=np.round(stats.t.ppf(0.025,df=249),2)\n",
    "t\n",
    "# t_value=(x_bar-mew)/(sampl_std/n**0.5)\n",
    "# t=45-50 or z=55-50 z=+/-5\n",
    "\n",
    "# t=5/(40/n**0.5)\n",
    "# n=(sample_standard_deviation*tscore)/(sample_mean=population_mean)\n",
    "n=((std*abs(t))/(5))**2\n",
    "\n",
    "print(\"The Auditors would like to maintain the probability of investigation to 5%, they should sample',np.round(n,),'transactions if they do not want \")\n",
    "df=n-1\n",
    "print(n,df)\n",
    "\n",
    "np.round(stats.t.interval(alpha=0.95,df=df,loc=mew,scale=std/np.sqrt(n)),)\n"
   ]
  },
  {
   "cell_type": "code",
   "execution_count": null,
   "metadata": {},
   "outputs": [],
   "source": []
  }
 ],
 "metadata": {
  "kernelspec": {
   "display_name": "base",
   "language": "python",
   "name": "python3"
  },
  "language_info": {
   "codemirror_mode": {
    "name": "ipython",
    "version": 3
   },
   "file_extension": ".py",
   "mimetype": "text/x-python",
   "name": "python",
   "nbconvert_exporter": "python",
   "pygments_lexer": "ipython3",
   "version": "3.11.4"
  }
 },
 "nbformat": 4,
 "nbformat_minor": 2
}
