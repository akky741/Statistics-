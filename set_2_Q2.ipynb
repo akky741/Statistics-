{
 "cells": [
  {
   "cell_type": "code",
   "execution_count": 6,
   "metadata": {},
   "outputs": [],
   "source": [
    "import scipy.stats as stats\n",
    "import numpy as np"
   ]
  },
  {
   "cell_type": "code",
   "execution_count": 8,
   "metadata": {},
   "outputs": [
    {
     "name": "stdout",
     "output_type": "stream",
     "text": [
      "The probability of employee age betweeen 38 and 44 is 34.13 %\n",
      "The probability of employee age more than 44 is 15.87 %\n",
      "Answer: False\n",
      "A training program for employees under the age of 30 at the center would be expected to attract about 36.0 employees\n"
     ]
    }
   ],
   "source": [
    "mean = 38\n",
    "std = 6\n",
    "less_than_38 = stats.norm.cdf(38, loc = mean, scale = std)\n",
    "\n",
    "\n",
    "less_than_44 = stats.norm.cdf(44, loc = mean,  scale = std)\n",
    "\n",
    "\n",
    "betweeen_38_and_44 = (less_than_44 - less_than_38)\n",
    "print('The probability of employee age betweeen 38 and 44 is',np.round(betweeen_38_and_44*100,2),'%') \n",
    "\n",
    "more_than_44 = 1-stats.norm.cdf(44, loc = mean, scale = std1)\n",
    "print('The probability of employee age more than 44 is',np.round(more_than_44*100,2),'%')\n",
    "\n",
    "true_or_false = (more_than_44 > betweeen_38_and_44)\n",
    "print('Answer:',true_or_false)\n",
    "\n",
    "c = stats.norm.cdf(30, loc = mean, scale = std1)\n",
    "print(\"\"\"A training program for employees under the age of 30 at the center would be expected to attract about\"\"\"\n",
    "      ,np.round((c*400),0),'employees')"
   ]
  },
  {
   "cell_type": "code",
   "execution_count": null,
   "metadata": {},
   "outputs": [],
   "source": []
  }
 ],
 "metadata": {
  "kernelspec": {
   "display_name": "base",
   "language": "python",
   "name": "python3"
  },
  "language_info": {
   "codemirror_mode": {
    "name": "ipython",
    "version": 3
   },
   "file_extension": ".py",
   "mimetype": "text/x-python",
   "name": "python",
   "nbconvert_exporter": "python",
   "pygments_lexer": "ipython3",
   "version": "3.11.4"
  }
 },
 "nbformat": 4,
 "nbformat_minor": 2
}
