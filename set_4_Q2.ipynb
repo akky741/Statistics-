{
 "cells": [
  {
   "cell_type": "code",
   "execution_count": null,
   "metadata": {},
   "outputs": [],
   "source": [
    "#For each of the following statements, indicate whether it is True/False. If false, explain why.\n",
    "\n",
    "#The manager of a warehouse monitors the volume of shipments made by the delivery team. \n",
    "# The automated tracking system tracks every package as it moves #through the facility. A sample of 25 packages are selected and weighed every day. \n",
    "# Based on current contracts with customers, the weights should have #μ = 22 lbs. and σ = 5 lbs.\n"
   ]
  },
  {
   "cell_type": "markdown",
   "metadata": {},
   "source": [
    "Before using a normal model for the sampling distribution of the average package weights, the manager must confirm that weights of individual packages are normally distributed"
   ]
  },
  {
   "cell_type": "code",
   "execution_count": 1,
   "metadata": {},
   "outputs": [
    {
     "data": {
      "text/plain": [
       "' False \\n: A sampling distribution is a probability distribution of a statistic obtained from a larger number of samples drawn from a specific population.\\nIn our case the samples contain 25 packages and the larger number of samples contain of each such 25 packages taken into different samples (25+25+25+25…and so on). The mean for one these samples is 22lbs and standard deviation of 5lbs which means each individual package is having a weight varying between + or – 5lbs with respect to mean(22lbs). Hence it is invalid to take a weight of individual packages and confirm that it follows normal distribution before using a normal model for the sampling distribution. The Sample Central Limit Theorem states that the sampling distribution of the samples mean approaches normal distribution as the sample size is large enough.'"
      ]
     },
     "execution_count": 1,
     "metadata": {},
     "output_type": "execute_result"
    }
   ],
   "source": [
    "''' False :- \n",
    " A sampling distribution is a probability distribution of a statistic obtained from a larger number of samples drawn from a specific population.\n",
    "In our case the samples contain 25 packages and the larger number of samples contain of each such 25 packages taken into\n",
    " different samples (25+25+25+25…and so on). The mean for one these samples is 22lbs and standard deviation of 5lbs which means \n",
    " each individual package is having a weight varying between + or – 5lbs with respect to mean(22lbs). Hence it is invalid to \n",
    " take a weight of individual packages and confirm that it follows normal distribution before using a normal model for the sampling distribution. \n",
    " The Sample Central Limit Theorem states that the sampling distribution of the samples mean approaches normal distribution as the sample size is \n",
    " large enough.'''"
   ]
  },
  {
   "cell_type": "markdown",
   "metadata": {},
   "source": [
    "The standard error of the daily average SE(x ̅) = 1."
   ]
  },
  {
   "cell_type": "code",
   "execution_count": 2,
   "metadata": {},
   "outputs": [
    {
     "data": {
      "text/plain": [
       "'The standard error of the daily average SE(x ̅) = 1.\\nAns: True :\\n As SE(Standard Error)  =  sample standard deviation / Square root of (number of sample)\\nSE = 5 / (25)^1/2\\nSE = 1\\n'"
      ]
     },
     "execution_count": 2,
     "metadata": {},
     "output_type": "execute_result"
    }
   ],
   "source": [
    "'''The standard error of the daily average SE(x ̅) = 1.\n",
    "Ans: True :\n",
    " As SE(Standard Error)  =  sample standard deviation / Square root of (number of sample)\n",
    "SE = 5 / (25)^1/2\n",
    "SE = 1\n",
    "'''"
   ]
  },
  {
   "cell_type": "markdown",
   "metadata": {},
   "source": []
  },
  {
   "cell_type": "code",
   "execution_count": null,
   "metadata": {},
   "outputs": [],
   "source": []
  }
 ],
 "metadata": {
  "kernelspec": {
   "display_name": "base",
   "language": "python",
   "name": "python3"
  },
  "language_info": {
   "codemirror_mode": {
    "name": "ipython",
    "version": 3
   },
   "file_extension": ".py",
   "mimetype": "text/x-python",
   "name": "python",
   "nbconvert_exporter": "python",
   "pygments_lexer": "ipython3",
   "version": "3.11.4"
  }
 },
 "nbformat": 4,
 "nbformat_minor": 2
}
