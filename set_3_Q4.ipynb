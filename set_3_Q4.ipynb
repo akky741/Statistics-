{
 "cells": [
  {
   "cell_type": "code",
   "execution_count": 2,
   "metadata": {},
   "outputs": [
    {
     "data": {
      "text/plain": [
       "'\\tWhat are the chances that  ?\\n\\nA.\\t¼ \\nB.\\t½ \\nC.\\t¾ \\nD.\\t1\\n'"
      ]
     },
     "execution_count": 2,
     "metadata": {},
     "output_type": "execute_result"
    }
   ],
   "source": [
    "'''\tWhat are the chances that Mean > µ ?\n",
    "\n",
    "A.\t¼ \n",
    "B.\t½ \n",
    "C.\t¾ \n",
    "D.\t1\n",
    "'''"
   ]
  },
  {
   "cell_type": "code",
   "execution_count": 3,
   "metadata": {},
   "outputs": [
    {
     "data": {
      "text/plain": [
       "' B (This is only an assumption, because if we consider more than 50% for sample mean to be greater than the probability of getting a lower value gets overshadowed because sample mean has an equal chance to be lesser than population mean)'"
      ]
     },
     "execution_count": 3,
     "metadata": {},
     "output_type": "execute_result"
    }
   ],
   "source": [
    "''' B (This is only an assumption, because if we consider more than 50% for sample mean to be greater than \n",
    "the probability of getting a lower value gets overshadowed because sample mean has an equal chance to be lesser than population mean)'''"
   ]
  },
  {
   "cell_type": "markdown",
   "metadata": {},
   "source": []
  },
  {
   "cell_type": "code",
   "execution_count": null,
   "metadata": {},
   "outputs": [],
   "source": []
  }
 ],
 "metadata": {
  "kernelspec": {
   "display_name": "base",
   "language": "python",
   "name": "python3"
  },
  "language_info": {
   "codemirror_mode": {
    "name": "ipython",
    "version": 3
   },
   "file_extension": ".py",
   "mimetype": "text/x-python",
   "name": "python",
   "nbconvert_exporter": "python",
   "pygments_lexer": "ipython3",
   "version": "3.11.4"
  }
 },
 "nbformat": 4,
 "nbformat_minor": 2
}
