{
 "cells": [
  {
   "cell_type": "code",
   "execution_count": 2,
   "metadata": {},
   "outputs": [
    {
     "data": {
      "text/plain": [
       "' Suppose we want the above margin of error to be based on a 98% confidence level. What sample size (minimum) must we now use?\\n\\nA.\\t1000B.\\t757C.\\t848D.\\t543\\\\ '"
      ]
     },
     "execution_count": 2,
     "metadata": {},
     "output_type": "execute_result"
    }
   ],
   "source": [
    "''' Suppose we want the above margin of error to be based on a 98% confidence level. What sample size (minimum) must we now use?\n",
    "\n",
    "A.\t1000\n",
    "B.\t757\n",
    "C.\t848\n",
    "D.\t543 '''"
   ]
  },
  {
   "cell_type": "code",
   "execution_count": 3,
   "metadata": {},
   "outputs": [
    {
     "data": {
      "text/plain": [
       "'Let’s assume p hat and q hat as 0.5 and margin of error is given 0.04\\n\\nn = (z)^2 * p hat * q hat / ME ^2\\nn = (2.32) ^2 * (0.5) (0.5) / (0.04) ^2 = 841 samples size'"
      ]
     },
     "execution_count": 3,
     "metadata": {},
     "output_type": "execute_result"
    }
   ],
   "source": [
    "'''Let’s assume p hat and q hat as 0.5 and margin of error is given 0.04\n",
    "\n",
    "n = (z)^2 * p hat * q hat / ME ^2\n",
    "n = (2.32) ^2 * (0.5) (0.5) / (0.04) ^2 = 841 samples size'''"
   ]
  }
 ],
 "metadata": {
  "kernelspec": {
   "display_name": "base",
   "language": "python",
   "name": "python3"
  },
  "language_info": {
   "codemirror_mode": {
    "name": "ipython",
    "version": 3
   },
   "file_extension": ".py",
   "mimetype": "text/x-python",
   "name": "python",
   "nbconvert_exporter": "python",
   "pygments_lexer": "ipython3",
   "version": "3.11.4"
  }
 },
 "nbformat": 4,
 "nbformat_minor": 2
}
