{
 "cells": [
  {
   "cell_type": "code",
   "execution_count": 12,
   "metadata": {},
   "outputs": [
    {
     "data": {
      "text/plain": [
       "'\\nReturns on a certain business venture to the nearest 1000 are known to follow the following probability distribution\\n\\n   X\\tP(x)\\n\\n-2,000\\t0.1\\n-1,000\\t0.1\\n   0\\t0.2\\n1000\\t0.2\\n2000\\t0.3\\n3000\\t0.1  \\n'"
      ]
     },
     "execution_count": 12,
     "metadata": {},
     "output_type": "execute_result"
    }
   ],
   "source": [
    "'''\n",
    "Returns on a certain business venture to the nearest 1000 are known to follow the following probability distribution\n",
    "\n",
    "   X\tP(x)\n",
    "\n",
    "-2,000\t0.1\n",
    "-1,000\t0.1\n",
    "   0\t0.2\n",
    "1000\t0.2\n",
    "2000\t0.3\n",
    "3000\t0.1  \n",
    "'''"
   ]
  },
  {
   "cell_type": "markdown",
   "metadata": {},
   "source": [
    "What is the most likely monetary outcome of the business venture?"
   ]
  },
  {
   "cell_type": "code",
   "execution_count": 13,
   "metadata": {},
   "outputs": [
    {
     "data": {
      "text/plain": [
       "'The most likely monetary outcome of the business venture is 2000$\\nAs for 2000$ the probability is 0.3 which is maximum as compared to others'"
      ]
     },
     "execution_count": 13,
     "metadata": {},
     "output_type": "execute_result"
    }
   ],
   "source": [
    "'''The most likely monetary outcome of the business venture is 2000$\n",
    "As for 2000$ the probability is 0.3 which is maximum as compared to others'''"
   ]
  },
  {
   "cell_type": "markdown",
   "metadata": {},
   "source": [
    "Is the venture likely to be successful? Explain"
   ]
  },
  {
   "cell_type": "code",
   "execution_count": 14,
   "metadata": {},
   "outputs": [
    {
     "data": {
      "text/plain": [
       "'Yes, the probability that the venture will make more than 0 or a profit\\np(x>0)+p(x>1000)+p(x>2000)+p(x=3000) = 0.2+0.2+0.3+0.1 = 0.8 this states that there is a good 80% chances for this venture to be making a profit '"
      ]
     },
     "execution_count": 14,
     "metadata": {},
     "output_type": "execute_result"
    }
   ],
   "source": [
    "'''Yes, the probability that the venture will make more than 0 or a profit\n",
    "p(x>0)+p(x>1000)+p(x>2000)+p(x=3000) = 0.2+0.2+0.3+0.1 = 0.8 this states that there is a good 80% chances for this venture to be making a profit '''"
   ]
  },
  {
   "cell_type": "markdown",
   "metadata": {},
   "source": [
    "What is the long-term average earning of business ventures of this kind? Explain"
   ]
  },
  {
   "cell_type": "code",
   "execution_count": 15,
   "metadata": {},
   "outputs": [
    {
     "data": {
      "text/plain": [
       "'The long-term average is Expected value = Sum (X * P(X)) = 800$ which means on an average the returns will be + 800$'"
      ]
     },
     "execution_count": 15,
     "metadata": {},
     "output_type": "execute_result"
    }
   ],
   "source": [
    "'''The long-term average is Expected value = Sum (X * P(X)) = 800$ which means on an average the returns will be + 800$'''"
   ]
  },
  {
   "cell_type": "markdown",
   "metadata": {},
   "source": [
    "What is the good measure of the risk involved in a venture of this kind? Compute this measure"
   ]
  },
  {
   "cell_type": "code",
   "execution_count": 16,
   "metadata": {},
   "outputs": [
    {
     "data": {
      "text/plain": [
       "'The good measure of the risk involved in a venture of this kind depends on the Variability in the distribution. Higher Variance means more chances of risk \\nVar (X) = E(X^2) –(E(X))^2\\n             = 2800000 – 800^2\\n             = 2160000'"
      ]
     },
     "execution_count": 16,
     "metadata": {},
     "output_type": "execute_result"
    }
   ],
   "source": [
    "'''The good measure of the risk involved in a venture of this kind depends on the Variability in the distribution. Higher Variance means more chances of risk \n",
    "Var (X) = E(X^2) - (E(X))^2\n",
    "             = 2800000 – 800^2\n",
    "             = 2160000'''"
   ]
  },
  {
   "cell_type": "code",
   "execution_count": null,
   "metadata": {},
   "outputs": [],
   "source": []
  }
 ],
 "metadata": {
  "kernelspec": {
   "display_name": "base",
   "language": "python",
   "name": "python3"
  },
  "language_info": {
   "codemirror_mode": {
    "name": "ipython",
    "version": 3
   },
   "file_extension": ".py",
   "mimetype": "text/x-python",
   "name": "python",
   "nbconvert_exporter": "python",
   "pygments_lexer": "ipython3",
   "version": "3.11.4"
  }
 },
 "nbformat": 4,
 "nbformat_minor": 2
}
