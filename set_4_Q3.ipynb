{
 "cells": [
  {
   "cell_type": "code",
   "execution_count": 3,
   "metadata": {},
   "outputs": [],
   "source": [
    "import numpy as np\n",
    "import scipy.stats as stats\n",
    "import statsmodels.api as smf"
   ]
  },
  {
   "cell_type": "code",
   "execution_count": 4,
   "metadata": {},
   "outputs": [
    {
     "name": "stdout",
     "output_type": "stream",
     "text": [
      "The probability that in any given week, there will be an investigation is 21.4 %\n"
     ]
    },
    {
     "name": "stderr",
     "output_type": "stream",
     "text": [
      "C:\\Users\\Akky\\AppData\\Local\\Temp\\ipykernel_9468\\764848667.py:19: DeprecationWarning: Use of keyword argument 'alpha' for method 'interval' is deprecated and wil be removed in SciPy 1.11.0. Use first positional argument or keyword argument 'confidence' instead.\n",
      "  np.round(stats.t.interval(alpha=prob,df=d_f,loc=Mean,scale=Std/np.sqrt(n)))\n"
     ]
    }
   ],
   "source": [
    "Mean=50\n",
    "Std=40\n",
    "n=100\n",
    "d_f=100-1 #degrees of freedom\n",
    "#the probability that there will be an investigation,\n",
    "#if the mean transaction amount increases more than 55 USD or less than 45 USD\n",
    "# no intvestigation if the mean transaction amount remains between 45 to 55 USD\n",
    "\n",
    "# we will go for t-distribution as population standard deviation is unknown\n",
    " \n",
    "t_fortyfive=(45-50)/(40/np.sqrt(100))\n",
    "t_fiftyfive=(55-50)/(40/np.sqrt(100))\n",
    "\n",
    "fortyfive=stats.t.cdf(t_fortyfive,df=d_f)\n",
    "fiftyfive=stats.t.cdf(t_fiftyfive,d_f)\n",
    "\n",
    "prob=fiftyfive-fortyfive\n",
    "\n",
    "np.round(stats.t.interval(alpha=prob,df=d_f,loc=Mean,scale=Std/np.sqrt(n)))\n",
    "\n",
    "print(\"The probability that in any given week, there will be an investigation is\",np.round((1-prob)*100,1),'%')\n",
    "    "
   ]
  },
  {
   "cell_type": "code",
   "execution_count": null,
   "metadata": {},
   "outputs": [],
   "source": []
  }
 ],
 "metadata": {
  "kernelspec": {
   "display_name": "base",
   "language": "python",
   "name": "python3"
  },
  "language_info": {
   "codemirror_mode": {
    "name": "ipython",
    "version": 3
   },
   "file_extension": ".py",
   "mimetype": "text/x-python",
   "name": "python",
   "nbconvert_exporter": "python",
   "pygments_lexer": "ipython3",
   "version": "3.11.4"
  }
 },
 "nbformat": 4,
 "nbformat_minor": 2
}
