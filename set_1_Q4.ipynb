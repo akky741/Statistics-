{
 "cells": [
  {
   "cell_type": "markdown",
   "metadata": {},
   "source": [
    "\tAT&T was running commercials in 1990 aimed at luring back customers who had switched to one of the other long-distance phone service providers. One such commercial shows a businessman trying to reach Phoenix and mistakenly getting Fiji, where a half-naked native on a beach responds incomprehensibly in Polynesian. When asked about this advertisement, AT&T admitted that the portrayed incident did not actually take place but added that this was an enactment of something that “could happen.” Suppose that one in 200 long-distance telephone calls is misdirected. What is the probability that at least one in five attempted telephone calls reaches the wrong number? (Assume independence of attempts.)\n",
    "\n"
   ]
  },
  {
   "cell_type": "code",
   "execution_count": null,
   "metadata": {},
   "outputs": [],
   "source": [
    "'''IF 1 in 200 long-distance telephone calls are getting misdirected.  \n",
    "probability of call misdirecting   = 1/200\n",
    "Probability of call not Misdirecting = 1-1/200 = 199/200\n",
    "The probability for at least one in five attempted telephone calls reaches the wrong number\n",
    "Number of Calls = 5\n",
    "n = 5\n",
    "p = 1/200\n",
    "q = 199/200\n",
    "P(x) = at least one in five attempted telephone calls reaches the wrong number\n",
    "P(x) = ⁿCₓ pˣ qⁿ⁻ˣ\n",
    "P(x) = (nCx) (p^x) (q^n-x)     # nCr = n! / r! * (n - r)!\n",
    "P(1) = (5C1) (1/200)^1 (199/200)^5-1\n",
    "P(1) = 0.0245037'''\n"
   ]
  },
  {
   "cell_type": "code",
   "execution_count": null,
   "metadata": {},
   "outputs": [],
   "source": []
  }
 ],
 "metadata": {
  "kernelspec": {
   "display_name": "base",
   "language": "python",
   "name": "python3"
  },
  "language_info": {
   "name": "python",
   "version": "3.11.4"
  }
 },
 "nbformat": 4,
 "nbformat_minor": 2
}
