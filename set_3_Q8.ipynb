{
 "cells": [
  {
   "cell_type": "code",
   "execution_count": 20,
   "metadata": {},
   "outputs": [
    {
     "data": {
      "text/plain": [
       "'How many randomly selected employers (minimum number) must we contact in order to guarantee a margin of error of no more than 4% (at 95% confidence)?\\n\\nA.\\t600B.\\t400C.\\t550D.\\t1000\\\\ '"
      ]
     },
     "execution_count": 20,
     "metadata": {},
     "output_type": "execute_result"
    }
   ],
   "source": [
    "'''How many randomly selected employers (minimum number) must we contact in order to guarantee a margin of error of no more than 4% (at 95% confidence)?\n",
    "\n",
    "A.\t600\n",
    "B.\t400\n",
    "C.\t550\n",
    "D.\t1000 '''"
   ]
  },
  {
   "cell_type": "code",
   "execution_count": 21,
   "metadata": {},
   "outputs": [
    {
     "data": {
      "text/plain": [
       "'Margin of Error = Z * under root (p hat *q hat/ n)\\nn = sample size, Z is score depends on the confidence level, p hat is the predictable value and q hat is the value to be predicted value\\n\\nlet’s assume p hat and q hat as 0.5 and margin of error is given 0.04\\n\\nn = (z)^2 * p hat * q hat / ME^2\\nn = (1.65) ^2 * (0.5) (0.5) / (0.04) ^2\\nn = 425 sample size'"
      ]
     },
     "execution_count": 21,
     "metadata": {},
     "output_type": "execute_result"
    }
   ],
   "source": [
    "'''Margin of Error = Z * under root (p hat *q hat/ n)\n",
    "n = sample size, Z is score depends on the confidence level, p hat is the predictable value and q hat is the value to be predicted value\n",
    "\n",
    "let’s assume p hat and q hat as 0.5 and margin of error is given 0.04\n",
    "\n",
    "n = (z)^2 * p hat * q hat / ME^2\n",
    "n = (1.65) ^2 * (0.5) (0.5) / (0.04) ^2\n",
    "n = 425 sample size'''"
   ]
  },
  {
   "cell_type": "code",
   "execution_count": null,
   "metadata": {},
   "outputs": [],
   "source": []
  }
 ],
 "metadata": {
  "language_info": {
   "name": "python"
  }
 },
 "nbformat": 4,
 "nbformat_minor": 2
}
