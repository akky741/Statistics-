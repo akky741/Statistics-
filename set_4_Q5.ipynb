{
 "cells": [
  {
   "cell_type": "markdown",
   "metadata": {},
   "source": [
    "An educational startup that helps MBA aspirants write their essays is targeting individuals who have taken GMAT in 2012 and have expressed interest in applying to FT top 20 b-schools. There are 40000 such individuals with an average GMAT score of 720 and a standard deviation of 120. The scores are distributed between 650 and 790 with a very long and thin tail towards the higher end resulting in substantial skewness. Which of the following is likely to be true for randomly chosen samples of aspirants?\n",
    "\n",
    "\tThe standard deviation of the scores within any sample will be 120.\n",
    "\tThe standard deviation of the mean of across several samples will be 120.\n",
    "\tThe mean score in any sample will be 720.\n",
    "\tThe average of the mean across several samples will be 720.\n",
    "\tThe standard deviation of the mean across several samples will be 0.60\n",
    "\n"
   ]
  },
  {
   "cell_type": "code",
   "execution_count": 1,
   "metadata": {},
   "outputs": [
    {
     "data": {
      "text/plain": [
       "' \\nStandard error = sigma / (n)^0.5\\n                            = standard deviation / (sample size)^0.5\\n                            = 120 / (40000)^0.5\\n                            = 0.6'"
      ]
     },
     "execution_count": 1,
     "metadata": {},
     "output_type": "execute_result"
    }
   ],
   "source": [
    "\n",
    "''' \n",
    "Standard error = sigma / (n)^0.5\n",
    "                            = standard deviation / (sample size)^0.5\n",
    "                            = 120 / (40000)^0.5\n",
    "                            = 0.6'''\n"
   ]
  },
  {
   "cell_type": "code",
   "execution_count": null,
   "metadata": {},
   "outputs": [],
   "source": []
  }
 ],
 "metadata": {
  "kernelspec": {
   "display_name": "base",
   "language": "python",
   "name": "python3"
  },
  "language_info": {
   "codemirror_mode": {
    "name": "ipython",
    "version": 3
   },
   "file_extension": ".py",
   "mimetype": "text/x-python",
   "name": "python",
   "nbconvert_exporter": "python",
   "pygments_lexer": "ipython3",
   "version": "3.11.4"
  }
 },
 "nbformat": 4,
 "nbformat_minor": 2
}
