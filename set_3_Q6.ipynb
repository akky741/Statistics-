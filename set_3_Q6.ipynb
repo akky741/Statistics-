{
 "cells": [
  {
   "cell_type": "markdown",
   "metadata": {},
   "source": [
    "A book publisher monitors the size of shipments of its textbooks to university bookstores. For a sample of texts used at various schools, the 95% confidence interval for the size of the shipment was 250 ± 45 books. Which, if any, of the following interpretations of this interval are correct?\n"
   ]
  },
  {
   "cell_type": "markdown",
   "metadata": {},
   "source": [
    "##### A. All shipments are between 205 and 295 books. =>\n",
    "Incorrect: 95% of the time the size of the shipment will be around 250 +/- 45 books\n",
    "\n",
    "##### B.\t95% of shipments are between 205 and 295 books. => \n",
    "Correct\n",
    "\n",
    "##### C.\tThe procedure that produced this interval generates ranges that hold the population mean for 95% of samples. => \n",
    "Correct\n",
    "\n",
    "##### D.\tIf we get another sample, then we can be 95% sure that the mean of this second sample is between 205 and 295. => \n",
    "Correct\n",
    "\n",
    "##### E.\tWe can be 95% confident that the range 160 to 340 holds the population mean. => \n",
    "Incorrect: as we increase the range +/- 1 sigma the % of confidence increases for a normal distribution it will be 97.5% that the mean will lie in between 160 to 340 (-3 sigma to +3 sigma)"
   ]
  },
  {
   "cell_type": "markdown",
   "metadata": {},
   "source": []
  }
 ],
 "metadata": {
  "language_info": {
   "name": "python"
  }
 },
 "nbformat": 4,
 "nbformat_minor": 2
}
