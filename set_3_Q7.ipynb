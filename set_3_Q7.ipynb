{
 "cells": [
  {
   "cell_type": "code",
   "execution_count": 3,
   "metadata": {},
   "outputs": [
    {
     "data": {
      "text/plain": [
       "' Which is shorter: a 95% z-interval or a 95% t-interval for μ if we know that σ =s?\\n\\nA.\\tThe z-interval is shorterB.\\tThe t-interval is shorterC.\\tBoth are equalD.\\tWe cannot say    '"
      ]
     },
     "execution_count": 3,
     "metadata": {},
     "output_type": "execute_result"
    }
   ],
   "source": [
    "''' Which is shorter: a 95% z-interval or a 95% t-interval for μ if we know that σ =s?\n",
    "\n",
    "A.\tThe z-interval is shorter\n",
    "B.\tThe t-interval is shorter\n",
    "C.\tBoth are equal\n",
    "D.\tWe cannot say\n",
    "    '''"
   ]
  },
  {
   "cell_type": "code",
   "execution_count": 4,
   "metadata": {},
   "outputs": [
    {
     "data": {
      "text/plain": [
       "'Ans :-\\nFor 95% confident Z-interval is shorter (1.960), as for t-interval (1.962) it increases as degree of freedom decreases.'"
      ]
     },
     "execution_count": 4,
     "metadata": {},
     "output_type": "execute_result"
    }
   ],
   "source": [
    "'''Ans :-\n",
    "For 95% confident Z-interval is shorter (1.960), as for t-interval (1.962) it increases as degree of freedom decreases.'''"
   ]
  },
  {
   "cell_type": "code",
   "execution_count": null,
   "metadata": {},
   "outputs": [],
   "source": []
  }
 ],
 "metadata": {
  "kernelspec": {
   "display_name": "base",
   "language": "python",
   "name": "python3"
  },
  "language_info": {
   "codemirror_mode": {
    "name": "ipython",
    "version": 3
   },
   "file_extension": ".py",
   "mimetype": "text/x-python",
   "name": "python",
   "nbconvert_exporter": "python",
   "pygments_lexer": "ipython3",
   "version": "3.11.4"
  }
 },
 "nbformat": 4,
 "nbformat_minor": 2
}
